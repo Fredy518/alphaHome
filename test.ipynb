{
 "cells": [
  {
   "cell_type": "code",
   "execution_count": 1,
   "metadata": {},
   "outputs": [
    {
     "name": "stdout",
     "output_type": "stream",
     "text": [
      "       ts_code trade_date      close       open       high        low  \\\n",
      "241  000300.SH   20240403  3567.8031  3578.6835  3582.4324  3558.8740   \n",
      "240  000300.SH   20240408  3536.4077  3553.5554  3567.8200  3535.7688   \n",
      "239  000300.SH   20240409  3533.4871  3533.3849  3543.7141  3518.8601   \n",
      "238  000300.SH   20240410  3504.7086  3528.9679  3531.2295  3490.0525   \n",
      "237  000300.SH   20240411  3504.2447  3485.0294  3520.5893  3484.9252   \n",
      "..         ...        ...        ...        ...        ...        ...   \n",
      "4    000300.SH   20250328  3915.1662  3930.7763  3934.2336  3907.3840   \n",
      "3    000300.SH   20250331  3887.3056  3905.9815  3928.4482  3872.4030   \n",
      "2    000300.SH   20250401  3887.6841  3892.7794  3905.2622  3882.4045   \n",
      "1    000300.SH   20250402  3884.3858  3884.4181  3900.4949  3877.1599   \n",
      "0    000300.SH   20250403  3861.5034  3843.4177  3883.7025  3843.4177   \n",
      "\n",
      "     pre_close   change  pct_chg          vol        amount  \n",
      "241  3580.6759 -12.8728  -0.3595  135592331.0  2.142229e+08  \n",
      "240  3567.8031 -31.3954  -0.8800  155304283.0  2.432493e+08  \n",
      "239  3536.4077  -2.9206  -0.0826  129670942.0  1.958935e+08  \n",
      "238  3533.4871 -28.7785  -0.8145  128790274.0  1.997548e+08  \n",
      "237  3504.7086  -0.4639  -0.0132  126534395.0  2.002935e+08  \n",
      "..         ...      ...      ...          ...           ...  \n",
      "4    3932.4117 -17.2455  -0.4385  126356214.0  2.133792e+08  \n",
      "3    3915.1662 -27.8606  -0.7116  166798523.0  2.684803e+08  \n",
      "2    3887.3056   0.3785   0.0097  140380274.0  2.460417e+08  \n",
      "1    3887.6841  -3.2983  -0.0848  113043175.0  1.982675e+08  \n",
      "0    3884.3858 -22.8824  -0.5891  142599789.0  2.636847e+08  \n",
      "\n",
      "[242 rows x 11 columns]\n"
     ]
    }
   ],
   "source": [
    "import tushare as ts\n",
    "import pandas as pd\n",
    "from datetime import datetime, timedelta\n",
    "\n",
    "# 设置Tushare的token\n",
    "pro = ts.pro_api()\n",
    "\n",
    "# 获取当前日期和一年前的日期\n",
    "end_date = datetime.now().strftime('%Y%m%d')\n",
    "start_date = (datetime.now() - timedelta(days=365)).strftime('%Y%m%d')\n",
    "\n",
    "# 获取沪深300指数的代码（000300.SH）\n",
    "index_code = '000300.SH'\n",
    "\n",
    "# 获取沪深300最近一年的日线数据\n",
    "df = pro.index_daily(ts_code=index_code, start_date=start_date, end_date=end_date)\n",
    "\n",
    "# 按日期排序\n",
    "df = df.sort_values(by='trade_date', ascending=True)\n",
    "\n",
    "# 显示数据\n",
    "print(df)"
   ]
  },
  {
   "cell_type": "code",
   "execution_count": null,
   "metadata": {},
   "outputs": [],
   "source": []
  }
 ],
 "metadata": {
  "kernelspec": {
   "display_name": "Python 3",
   "language": "python",
   "name": "python3"
  },
  "language_info": {
   "codemirror_mode": {
    "name": "ipython",
    "version": 3
   },
   "file_extension": ".py",
   "mimetype": "text/x-python",
   "name": "python",
   "nbconvert_exporter": "python",
   "pygments_lexer": "ipython3",
   "version": "3.12.7"
  }
 },
 "nbformat": 4,
 "nbformat_minor": 2
}
